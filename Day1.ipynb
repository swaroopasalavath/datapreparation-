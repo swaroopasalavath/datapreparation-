{
  "nbformat": 4,
  "nbformat_minor": 0,
  "metadata": {
    "colab": {
      "provenance": [],
      "authorship_tag": "ABX9TyOL3ROzK0Xy+U0S3phJy/gC",
      "include_colab_link": true
    },
    "kernelspec": {
      "name": "python3",
      "display_name": "Python 3"
    },
    "language_info": {
      "name": "python"
    }
  },
  "cells": [
    {
      "cell_type": "markdown",
      "metadata": {
        "id": "view-in-github",
        "colab_type": "text"
      },
      "source": [
        "<a href=\"https://colab.research.google.com/github/swaroopasalavath/datapreparation-/blob/main/Day1.ipynb\" target=\"_parent\"><img src=\"https://colab.research.google.com/assets/colab-badge.svg\" alt=\"Open In Colab\"/></a>"
      ]
    },
    {
      "cell_type": "code",
      "execution_count": null,
      "metadata": {
        "id": "5ZFXN2Pjb5Z9"
      },
      "outputs": [],
      "source": []
    },
    {
      "cell_type": "code",
      "source": [
        "import random"
      ],
      "metadata": {
        "id": "O6Xp_Dqveqb5"
      },
      "execution_count": 1,
      "outputs": []
    },
    {
      "cell_type": "code",
      "source": [
        "import pandas"
      ],
      "metadata": {
        "id": "6s2zpkzhewbd"
      },
      "execution_count": 2,
      "outputs": []
    },
    {
      "cell_type": "code",
      "source": [
        "exp = random.sample(range(1,21),20)\n",
        "print(exp)"
      ],
      "metadata": {
        "colab": {
          "base_uri": "https://localhost:8080/"
        },
        "id": "Vp0Laof2e9Ug",
        "outputId": "fdd3d450-4fef-4c0d-d5d6-39734e73c79c"
      },
      "execution_count": 3,
      "outputs": [
        {
          "output_type": "stream",
          "name": "stdout",
          "text": [
            "[15, 1, 8, 17, 4, 3, 6, 11, 13, 14, 9, 19, 7, 12, 2, 18, 20, 10, 5, 16]\n"
          ]
        }
      ]
    },
    {
      "cell_type": "code",
      "source": [
        "sal = random.sample(range(25,151),20)\n",
        "print(sal)\n"
      ],
      "metadata": {
        "colab": {
          "base_uri": "https://localhost:8080/"
        },
        "id": "hquitHRVfmaU",
        "outputId": "68d85f6a-4001-4860-a3ea-c4a630ec4d73"
      },
      "execution_count": 4,
      "outputs": [
        {
          "output_type": "stream",
          "name": "stdout",
          "text": [
            "[50, 144, 142, 109, 28, 60, 32, 143, 33, 45, 27, 58, 78, 36, 46, 134, 44, 59, 69, 80]\n"
          ]
        }
      ]
    },
    {
      "cell_type": "code",
      "source": [
        "combination = list(zip(exp,sal))\n",
        "print(combination)"
      ],
      "metadata": {
        "colab": {
          "base_uri": "https://localhost:8080/"
        },
        "id": "5WzxMwnFgApL",
        "outputId": "fa876c93-76c4-47af-a4fc-941f1f899d45"
      },
      "execution_count": 5,
      "outputs": [
        {
          "output_type": "stream",
          "name": "stdout",
          "text": [
            "[(15, 50), (1, 144), (8, 142), (17, 109), (4, 28), (3, 60), (6, 32), (11, 143), (13, 33), (14, 45), (9, 27), (19, 58), (7, 78), (12, 36), (2, 46), (18, 134), (20, 44), (10, 59), (5, 69), (16, 80)]\n"
          ]
        }
      ]
    },
    {
      "cell_type": "code",
      "source": [
        "dataframe = pandas.DataFrame(combination,columns=['exp','sal'])\n",
        "print(dataframe)"
      ],
      "metadata": {
        "colab": {
          "base_uri": "https://localhost:8080/"
        },
        "id": "gCdMFcgVgWbT",
        "outputId": "02c0d7f5-2abf-48a6-c1d9-93d091d70dfa"
      },
      "execution_count": 6,
      "outputs": [
        {
          "output_type": "stream",
          "name": "stdout",
          "text": [
            "    exp  sal\n",
            "0    15   50\n",
            "1     1  144\n",
            "2     8  142\n",
            "3    17  109\n",
            "4     4   28\n",
            "5     3   60\n",
            "6     6   32\n",
            "7    11  143\n",
            "8    13   33\n",
            "9    14   45\n",
            "10    9   27\n",
            "11   19   58\n",
            "12    7   78\n",
            "13   12   36\n",
            "14    2   46\n",
            "15   18  134\n",
            "16   20   44\n",
            "17   10   59\n",
            "18    5   69\n",
            "19   16   80\n"
          ]
        }
      ]
    },
    {
      "cell_type": "code",
      "source": [
        "Avgexp = dataframe['exp'].mean(axis=0)\n",
        "print(Avgexp)"
      ],
      "metadata": {
        "colab": {
          "base_uri": "https://localhost:8080/"
        },
        "id": "Iv2cvz2ahFHx",
        "outputId": "5036376f-d0c0-4bdb-e8d4-a267c5136d25"
      },
      "execution_count": 7,
      "outputs": [
        {
          "output_type": "stream",
          "name": "stdout",
          "text": [
            "10.5\n"
          ]
        }
      ]
    },
    {
      "cell_type": "code",
      "source": [
        "Avgsal = dataframe['sal'].mean(axis=0)\n",
        "print(Avgsal)"
      ],
      "metadata": {
        "colab": {
          "base_uri": "https://localhost:8080/"
        },
        "id": "e27IEmariAsa",
        "outputId": "35f2c011-2a35-4c2b-9171-ad7fc296e385"
      },
      "execution_count": 8,
      "outputs": [
        {
          "output_type": "stream",
          "name": "stdout",
          "text": [
            "70.85\n"
          ]
        }
      ]
    },
    {
      "cell_type": "code",
      "source": [],
      "metadata": {
        "id": "XOfq3xdliTwW"
      },
      "execution_count": null,
      "outputs": []
    }
  ]
}